{
 "cells": [
  {
   "cell_type": "markdown",
   "metadata": {
    "azdata_cell_guid": "54326aff-51cd-4766-8046-828a92489c6d"
   },
   "source": [
    "# Studio: Working with Databases in Python\n",
    "\n",
    "For today's studio, we will be using the [TV Shows dataset](https://www.kaggle.com/ruchi798/tv-shows-on-netflix-prime-video-hulu-and-disney) from Kaggle. We have already downloaded the CSV for you.\n",
    "\n",
    "You will also be using the watchlist you just created to figure out which streaming services contain the shows that you want to watch next so you can decide which one is worth the money to you.\n",
    "\n",
    "As you complete the different tasks in the studio, you may choose between using Pandas or SQL. Remember that during the prep work, we learned that one is oftentimes more efficient at certain tasks than the other, so choose wisely!"
   ]
  },
  {
   "cell_type": "markdown",
   "metadata": {
    "azdata_cell_guid": "00bc62ef-6c46-40a2-bdad-a3250a003ce7"
   },
   "source": [
    "## My Watchlist\n",
    "\n",
    "1) Game of Thrones\n",
    "\n",
    "2) Dexter\n",
    "\n",
    "3) Fixer Upper\n",
    "\n",
    "4) The Masked Singer\n",
    "\n",
    "5) Making the Cut\n",
    "\n",
    "6) Sopranos\n",
    "\n",
    "7) Mandalorian\n",
    "\n",
    "8) Seinfeld\n",
    "\n",
    "9) Miraculous\n",
    "\n",
    "10) Buffy the Vampire Slayer"
   ]
  },
  {
   "cell_type": "markdown",
   "metadata": {
    "azdata_cell_guid": "040bdac5-f7fc-474f-b112-1d807249ad0a"
   },
   "source": [
    "## Database Setup\n",
    "\n",
    "To start with, import the necessary libraries and create a dataframe from the provided CSV. Print the info out for the dataframe. After that, you may drop the column called `Unnamed: 0` and rename any columns with spaces in the names or unusual characters such as `\"+\"`. Print out the info for the dataframe again to ensure that your changes were effective."
   ]
  },
  {
   "cell_type": "code",
   "execution_count": 8,
   "metadata": {
    "azdata_cell_guid": "965f15d3-27b1-43ed-97e4-8c6fd482476c",
    "tags": []
   },
   "outputs": [],
   "source": [
    "import pandas as pd\n",
    "import sqlite3 as sl\n",
    "\n",
    "df = pd.read_csv('tv_shows.csv',index_col=[0])\n",
    "df.rename(columns={'Rotten Tomatoes':'Rotten_Tomatoes','Prime Video':'Prime_Video','Disney+':'Disney_Plus'}, inplace=True)\n"
   ]
  },
  {
   "cell_type": "code",
   "execution_count": 9,
   "metadata": {},
   "outputs": [
    {
     "data": {
      "text/html": [
       "<div>\n",
       "<style scoped>\n",
       "    .dataframe tbody tr th:only-of-type {\n",
       "        vertical-align: middle;\n",
       "    }\n",
       "\n",
       "    .dataframe tbody tr th {\n",
       "        vertical-align: top;\n",
       "    }\n",
       "\n",
       "    .dataframe thead th {\n",
       "        text-align: right;\n",
       "    }\n",
       "</style>\n",
       "<table border=\"1\" class=\"dataframe\">\n",
       "  <thead>\n",
       "    <tr style=\"text-align: right;\">\n",
       "      <th></th>\n",
       "      <th>ID</th>\n",
       "      <th>Title</th>\n",
       "      <th>Year</th>\n",
       "      <th>Age</th>\n",
       "      <th>IMDb</th>\n",
       "      <th>Rotten_Tomatoes</th>\n",
       "      <th>Netflix</th>\n",
       "      <th>Hulu</th>\n",
       "      <th>Prime_Video</th>\n",
       "      <th>Disney_Plus</th>\n",
       "      <th>Type</th>\n",
       "    </tr>\n",
       "  </thead>\n",
       "  <tbody>\n",
       "    <tr>\n",
       "      <th>0</th>\n",
       "      <td>1</td>\n",
       "      <td>Breaking Bad</td>\n",
       "      <td>2008</td>\n",
       "      <td>18+</td>\n",
       "      <td>9.4/10</td>\n",
       "      <td>100/100</td>\n",
       "      <td>1</td>\n",
       "      <td>0</td>\n",
       "      <td>0</td>\n",
       "      <td>0</td>\n",
       "      <td>1</td>\n",
       "    </tr>\n",
       "    <tr>\n",
       "      <th>1</th>\n",
       "      <td>2</td>\n",
       "      <td>Stranger Things</td>\n",
       "      <td>2016</td>\n",
       "      <td>16+</td>\n",
       "      <td>8.7/10</td>\n",
       "      <td>96/100</td>\n",
       "      <td>1</td>\n",
       "      <td>0</td>\n",
       "      <td>0</td>\n",
       "      <td>0</td>\n",
       "      <td>1</td>\n",
       "    </tr>\n",
       "    <tr>\n",
       "      <th>2</th>\n",
       "      <td>3</td>\n",
       "      <td>Attack on Titan</td>\n",
       "      <td>2013</td>\n",
       "      <td>18+</td>\n",
       "      <td>9.0/10</td>\n",
       "      <td>95/100</td>\n",
       "      <td>1</td>\n",
       "      <td>1</td>\n",
       "      <td>0</td>\n",
       "      <td>0</td>\n",
       "      <td>1</td>\n",
       "    </tr>\n",
       "    <tr>\n",
       "      <th>3</th>\n",
       "      <td>4</td>\n",
       "      <td>Better Call Saul</td>\n",
       "      <td>2015</td>\n",
       "      <td>18+</td>\n",
       "      <td>8.8/10</td>\n",
       "      <td>94/100</td>\n",
       "      <td>1</td>\n",
       "      <td>0</td>\n",
       "      <td>0</td>\n",
       "      <td>0</td>\n",
       "      <td>1</td>\n",
       "    </tr>\n",
       "    <tr>\n",
       "      <th>4</th>\n",
       "      <td>5</td>\n",
       "      <td>Dark</td>\n",
       "      <td>2017</td>\n",
       "      <td>16+</td>\n",
       "      <td>8.8/10</td>\n",
       "      <td>93/100</td>\n",
       "      <td>1</td>\n",
       "      <td>0</td>\n",
       "      <td>0</td>\n",
       "      <td>0</td>\n",
       "      <td>1</td>\n",
       "    </tr>\n",
       "    <tr>\n",
       "      <th>...</th>\n",
       "      <td>...</td>\n",
       "      <td>...</td>\n",
       "      <td>...</td>\n",
       "      <td>...</td>\n",
       "      <td>...</td>\n",
       "      <td>...</td>\n",
       "      <td>...</td>\n",
       "      <td>...</td>\n",
       "      <td>...</td>\n",
       "      <td>...</td>\n",
       "      <td>...</td>\n",
       "    </tr>\n",
       "    <tr>\n",
       "      <th>5363</th>\n",
       "      <td>5713</td>\n",
       "      <td>Paradise Islands</td>\n",
       "      <td>2017</td>\n",
       "      <td>NaN</td>\n",
       "      <td>NaN</td>\n",
       "      <td>10/100</td>\n",
       "      <td>0</td>\n",
       "      <td>0</td>\n",
       "      <td>0</td>\n",
       "      <td>1</td>\n",
       "      <td>1</td>\n",
       "    </tr>\n",
       "    <tr>\n",
       "      <th>5364</th>\n",
       "      <td>5714</td>\n",
       "      <td>Mexico Untamed</td>\n",
       "      <td>2018</td>\n",
       "      <td>NaN</td>\n",
       "      <td>NaN</td>\n",
       "      <td>10/100</td>\n",
       "      <td>0</td>\n",
       "      <td>0</td>\n",
       "      <td>0</td>\n",
       "      <td>1</td>\n",
       "      <td>1</td>\n",
       "    </tr>\n",
       "    <tr>\n",
       "      <th>5365</th>\n",
       "      <td>5715</td>\n",
       "      <td>Wild Centeral America</td>\n",
       "      <td>2020</td>\n",
       "      <td>NaN</td>\n",
       "      <td>NaN</td>\n",
       "      <td>10/100</td>\n",
       "      <td>0</td>\n",
       "      <td>0</td>\n",
       "      <td>0</td>\n",
       "      <td>1</td>\n",
       "      <td>1</td>\n",
       "    </tr>\n",
       "    <tr>\n",
       "      <th>5366</th>\n",
       "      <td>5716</td>\n",
       "      <td>Wild Russia</td>\n",
       "      <td>2018</td>\n",
       "      <td>NaN</td>\n",
       "      <td>NaN</td>\n",
       "      <td>10/100</td>\n",
       "      <td>0</td>\n",
       "      <td>0</td>\n",
       "      <td>0</td>\n",
       "      <td>1</td>\n",
       "      <td>1</td>\n",
       "    </tr>\n",
       "    <tr>\n",
       "      <th>5367</th>\n",
       "      <td>5717</td>\n",
       "      <td>Fearless Adventures with Jack Randall</td>\n",
       "      <td>2018</td>\n",
       "      <td>NaN</td>\n",
       "      <td>NaN</td>\n",
       "      <td>10/100</td>\n",
       "      <td>0</td>\n",
       "      <td>0</td>\n",
       "      <td>0</td>\n",
       "      <td>1</td>\n",
       "      <td>1</td>\n",
       "    </tr>\n",
       "  </tbody>\n",
       "</table>\n",
       "<p>5368 rows × 11 columns</p>\n",
       "</div>"
      ],
      "text/plain": [
       "        ID                                  Title  Year  Age    IMDb  \\\n",
       "0        1                           Breaking Bad  2008  18+  9.4/10   \n",
       "1        2                        Stranger Things  2016  16+  8.7/10   \n",
       "2        3                        Attack on Titan  2013  18+  9.0/10   \n",
       "3        4                       Better Call Saul  2015  18+  8.8/10   \n",
       "4        5                                   Dark  2017  16+  8.8/10   \n",
       "...    ...                                    ...   ...  ...     ...   \n",
       "5363  5713                       Paradise Islands  2017  NaN     NaN   \n",
       "5364  5714                         Mexico Untamed  2018  NaN     NaN   \n",
       "5365  5715                  Wild Centeral America  2020  NaN     NaN   \n",
       "5366  5716                            Wild Russia  2018  NaN     NaN   \n",
       "5367  5717  Fearless Adventures with Jack Randall  2018  NaN     NaN   \n",
       "\n",
       "     Rotten_Tomatoes  Netflix  Hulu  Prime_Video  Disney_Plus  Type  \n",
       "0            100/100        1     0            0            0     1  \n",
       "1             96/100        1     0            0            0     1  \n",
       "2             95/100        1     1            0            0     1  \n",
       "3             94/100        1     0            0            0     1  \n",
       "4             93/100        1     0            0            0     1  \n",
       "...              ...      ...   ...          ...          ...   ...  \n",
       "5363          10/100        0     0            0            1     1  \n",
       "5364          10/100        0     0            0            1     1  \n",
       "5365          10/100        0     0            0            1     1  \n",
       "5366          10/100        0     0            0            1     1  \n",
       "5367          10/100        0     0            0            1     1  \n",
       "\n",
       "[5368 rows x 11 columns]"
      ]
     },
     "execution_count": 9,
     "metadata": {},
     "output_type": "execute_result"
    }
   ],
   "source": [
    "df"
   ]
  },
  {
   "cell_type": "code",
   "execution_count": 37,
   "metadata": {},
   "outputs": [
    {
     "data": {
      "text/plain": [
       "ID                  int64\n",
       "Title              object\n",
       "Year                int64\n",
       "Age                object\n",
       "IMDb               object\n",
       "Rotten_Tomatoes    object\n",
       "Netflix             int64\n",
       "Hulu                int64\n",
       "Prime_Video         int64\n",
       "Disney_Plus         int64\n",
       "Type                int64\n",
       "dtype: object"
      ]
     },
     "execution_count": 37,
     "metadata": {},
     "output_type": "execute_result"
    }
   ],
   "source": [
    "df"
   ]
  },
  {
   "cell_type": "markdown",
   "metadata": {
    "azdata_cell_guid": "93875e01-f1ec-45ab-b8b3-c0fe09c89c41"
   },
   "source": [
    "With your dataframe at the ready, create a new database called `tv`. Add a new table to your database called `shows` using the data in the dataframe. "
   ]
  },
  {
   "cell_type": "code",
   "execution_count": 136,
   "metadata": {
    "azdata_cell_guid": "cae4affc-d930-4649-9c39-551475a83b5b",
    "scrolled": true,
    "tags": []
   },
   "outputs": [],
   "source": [
    "con = sl.connect('tv.db')\n",
    "\n",
    "with con:\n",
    "    con.execute(\"\"\"\n",
    "        CREATE TABLE show (\n",
    "            ID INT,\n",
    "            Title TEXT,\n",
    "            Year INT,\n",
    "            Age TEXT,\n",
    "            IMDB TEXT,\n",
    "            Rotten_Tomatoes TEXT,\n",
    "            Netflix INT,\n",
    "            Hulu INT,\n",
    "            Prime_Video INT,\n",
    "            Disney_Plus INT,\n",
    "            Type INT\n",
    "        );\n",
    "    \"\"\")"
   ]
  },
  {
   "cell_type": "code",
   "execution_count": 133,
   "metadata": {},
   "outputs": [],
   "source": [
    "df.to_sql('show', con)"
   ]
  },
  {
   "cell_type": "code",
   "execution_count": 17,
   "metadata": {
    "scrolled": true
   },
   "outputs": [
    {
     "data": {
      "text/html": [
       "<div>\n",
       "<style scoped>\n",
       "    .dataframe tbody tr th:only-of-type {\n",
       "        vertical-align: middle;\n",
       "    }\n",
       "\n",
       "    .dataframe tbody tr th {\n",
       "        vertical-align: top;\n",
       "    }\n",
       "\n",
       "    .dataframe thead th {\n",
       "        text-align: right;\n",
       "    }\n",
       "</style>\n",
       "<table border=\"1\" class=\"dataframe\">\n",
       "  <thead>\n",
       "    <tr style=\"text-align: right;\">\n",
       "      <th></th>\n",
       "      <th>ID</th>\n",
       "      <th>Title</th>\n",
       "      <th>Year</th>\n",
       "      <th>Age</th>\n",
       "      <th>IMDb</th>\n",
       "      <th>Rotten_Tomatoes</th>\n",
       "      <th>Netflix</th>\n",
       "      <th>Hulu</th>\n",
       "      <th>Prime_Video</th>\n",
       "      <th>Disney_Plus</th>\n",
       "      <th>Type</th>\n",
       "    </tr>\n",
       "  </thead>\n",
       "  <tbody>\n",
       "    <tr>\n",
       "      <th>0</th>\n",
       "      <td>1</td>\n",
       "      <td>Breaking Bad</td>\n",
       "      <td>2008</td>\n",
       "      <td>18+</td>\n",
       "      <td>9.4/10</td>\n",
       "      <td>100/100</td>\n",
       "      <td>1</td>\n",
       "      <td>0</td>\n",
       "      <td>0</td>\n",
       "      <td>0</td>\n",
       "      <td>1</td>\n",
       "    </tr>\n",
       "    <tr>\n",
       "      <th>1</th>\n",
       "      <td>2</td>\n",
       "      <td>Stranger Things</td>\n",
       "      <td>2016</td>\n",
       "      <td>16+</td>\n",
       "      <td>8.7/10</td>\n",
       "      <td>96/100</td>\n",
       "      <td>1</td>\n",
       "      <td>0</td>\n",
       "      <td>0</td>\n",
       "      <td>0</td>\n",
       "      <td>1</td>\n",
       "    </tr>\n",
       "    <tr>\n",
       "      <th>2</th>\n",
       "      <td>3</td>\n",
       "      <td>Attack on Titan</td>\n",
       "      <td>2013</td>\n",
       "      <td>18+</td>\n",
       "      <td>9.0/10</td>\n",
       "      <td>95/100</td>\n",
       "      <td>1</td>\n",
       "      <td>1</td>\n",
       "      <td>0</td>\n",
       "      <td>0</td>\n",
       "      <td>1</td>\n",
       "    </tr>\n",
       "    <tr>\n",
       "      <th>3</th>\n",
       "      <td>4</td>\n",
       "      <td>Better Call Saul</td>\n",
       "      <td>2015</td>\n",
       "      <td>18+</td>\n",
       "      <td>8.8/10</td>\n",
       "      <td>94/100</td>\n",
       "      <td>1</td>\n",
       "      <td>0</td>\n",
       "      <td>0</td>\n",
       "      <td>0</td>\n",
       "      <td>1</td>\n",
       "    </tr>\n",
       "    <tr>\n",
       "      <th>4</th>\n",
       "      <td>5</td>\n",
       "      <td>Dark</td>\n",
       "      <td>2017</td>\n",
       "      <td>16+</td>\n",
       "      <td>8.8/10</td>\n",
       "      <td>93/100</td>\n",
       "      <td>1</td>\n",
       "      <td>0</td>\n",
       "      <td>0</td>\n",
       "      <td>0</td>\n",
       "      <td>1</td>\n",
       "    </tr>\n",
       "  </tbody>\n",
       "</table>\n",
       "</div>"
      ],
      "text/plain": [
       "   ID             Title  Year  Age    IMDb Rotten_Tomatoes  Netflix  Hulu  \\\n",
       "0   1      Breaking Bad  2008  18+  9.4/10         100/100        1     0   \n",
       "1   2   Stranger Things  2016  16+  8.7/10          96/100        1     0   \n",
       "2   3   Attack on Titan  2013  18+  9.0/10          95/100        1     1   \n",
       "3   4  Better Call Saul  2015  18+  8.8/10          94/100        1     0   \n",
       "4   5              Dark  2017  16+  8.8/10          93/100        1     0   \n",
       "\n",
       "   Prime_Video  Disney_Plus  Type  \n",
       "0            0            0     1  \n",
       "1            0            0     1  \n",
       "2            0            0     1  \n",
       "3            0            0     1  \n",
       "4            0            0     1  "
      ]
     },
     "execution_count": 17,
     "metadata": {},
     "output_type": "execute_result"
    }
   ],
   "source": [
    "df.head()"
   ]
  },
  {
   "cell_type": "markdown",
   "metadata": {
    "azdata_cell_guid": "4916f211-149f-467b-b5e4-22ad946b54f2"
   },
   "source": [
    "With your new table and database set up, print out the top 20 records in the `shows` table."
   ]
  },
  {
   "cell_type": "code",
   "execution_count": 134,
   "metadata": {},
   "outputs": [
    {
     "name": "stdout",
     "output_type": "stream",
     "text": [
      "(0, 1, 'Breaking Bad', 2008, '18+', '9.4/10', '100/100', 1, 0, 0, 0, 1)\n",
      "(1, 2, 'Stranger Things', 2016, '16+', '8.7/10', '96/100', 1, 0, 0, 0, 1)\n",
      "(2, 3, 'Attack on Titan', 2013, '18+', '9.0/10', '95/100', 1, 1, 0, 0, 1)\n",
      "(3, 4, 'Better Call Saul', 2015, '18+', '8.8/10', '94/100', 1, 0, 0, 0, 1)\n",
      "(4, 5, 'Dark', 2017, '16+', '8.8/10', '93/100', 1, 0, 0, 0, 1)\n",
      "(5, 6, 'Avatar: The Last Airbender', 2005, '7+', '9.3/10', '93/100', 1, 0, 1, 0, 1)\n",
      "(6, 7, 'Peaky Blinders', 2013, '18+', '8.8/10', '93/100', 1, 0, 0, 0, 1)\n",
      "(7, 8, 'The Walking Dead', 2010, '18+', '8.2/10', '93/100', 1, 0, 0, 0, 1)\n",
      "(8, 9, 'Black Mirror', 2011, '18+', '8.8/10', '92/100', 1, 0, 0, 0, 1)\n",
      "(9, 10, \"The Queen's Gambit\", 2020, '18+', '8.6/10', '92/100', 1, 0, 0, 0, 1)\n",
      "(10, 11, 'Mindhunter', 2017, '18+', '8.6/10', '90/100', 1, 0, 0, 0, 1)\n",
      "(11, 12, 'Community', 2009, '7+', '8.5/10', '90/100', 1, 1, 1, 0, 1)\n",
      "(12, 13, 'Narcos', 2015, '18+', '8.8/10', '90/100', 1, 0, 0, 0, 1)\n",
      "(13, 14, 'Shameless', 2011, '18+', '8.5/10', '90/100', 1, 1, 1, 0, 1)\n",
      "(14, 15, 'Money Heist', 2017, '18+', '8.3/10', '90/100', 1, 0, 0, 0, 1)\n",
      "(15, 16, \"Marvel's Daredevil\", 2015, '18+', '8.6/10', '90/100', 1, 0, 0, 0, 1)\n",
      "(16, 17, 'Lucifer', 2016, '16+', '8.1/10', '90/100', 1, 0, 0, 0, 1)\n",
      "(17, 18, 'Supernatural', 2005, '16+', '8.4/10', '89/100', 1, 0, 0, 0, 1)\n",
      "(18, 19, 'The Witcher', 2019, '18+', '8.2/10', '89/100', 1, 0, 0, 0, 1)\n",
      "(19, 20, 'Ozark', 2017, '18+', '8.4/10', '89/100', 1, 0, 0, 0, 1)\n"
     ]
    }
   ],
   "source": [
    "with con:\n",
    "    data = con.execute(\"SELECT * FROM [show] LIMIT 20\")\n",
    "    for row in data:\n",
    "        print(row)"
   ]
  },
  {
   "cell_type": "markdown",
   "metadata": {},
   "source": [
    "Now add a table that includes an id number and the titles on your watchlist."
   ]
  },
  {
   "cell_type": "code",
   "execution_count": 77,
   "metadata": {
    "azdata_cell_guid": "c6aa3980-3eef-4d7d-8f04-961508662147",
    "tags": []
   },
   "outputs": [],
   "source": [
    "with con:\n",
    "    con.execute(\"\"\"\n",
    "        CREATE TABLE my_watchlist (\n",
    "            ID INT,\n",
    "            Title TEXT);\"\"\")"
   ]
  },
  {
   "cell_type": "code",
   "execution_count": 78,
   "metadata": {},
   "outputs": [],
   "source": [
    "sql = 'INSERT INTO my_watchlist (ID, Title) values(?, ?)'\n",
    "data = [\n",
    "    (1,'Game of Thrones'),(2,'Dexter'),(3,'Fixer Upper'),(4,'The Masked Singer'),(5,'Making the Cut'),\n",
    "    (6,'Sopranos'),(7,'Mandalorian'),(8,'Seinfeld'),(9,'Miraculous'),(10,'Buffy the Vampire Slayer')]\n",
    "\n",
    "with con:\n",
    "    con.executemany(sql, data)"
   ]
  },
  {
   "cell_type": "code",
   "execution_count": 80,
   "metadata": {},
   "outputs": [
    {
     "name": "stdout",
     "output_type": "stream",
     "text": [
      "(1, 'Game of Thrones')\n",
      "(2, 'Dexter')\n",
      "(3, 'Fixer Upper')\n",
      "(4, 'The Masked Singer')\n",
      "(5, 'Making the Cut')\n",
      "(6, 'Sopranos')\n",
      "(7, 'Mandalorian')\n",
      "(8, 'Seinfeld')\n",
      "(9, 'Miraculous')\n",
      "(10, 'Buffy the Vampire Slayer')\n"
     ]
    }
   ],
   "source": [
    "with con:\n",
    "    data = con.execute(\"SELECT * FROM my_watchlist\")\n",
    "    for row in data:\n",
    "        print(row)"
   ]
  },
  {
   "cell_type": "markdown",
   "metadata": {
    "azdata_cell_guid": "4716090d-63e3-4283-8245-934c4a28c750"
   },
   "source": [
    "## Working with the Data\n",
    "\n",
    "Using either Pandas or SQL, determine how many shows are on each streaming service and what the mean is for each streaming service. \n",
    "\n",
    "**Note**: You may notice that the mean represents the percentage of shows in the dataframe that are on each streaming service. Take a moment to think about why that is."
   ]
  },
  {
   "cell_type": "code",
   "execution_count": 107,
   "metadata": {},
   "outputs": [
    {
     "data": {
      "text/plain": [
       "ID             15110629\n",
       "Year           10803791\n",
       "Netflix            1971\n",
       "Hulu               1621\n",
       "Prime_Video        1831\n",
       "Disney_Plus         351\n",
       "Type               5368\n",
       "dtype: int64"
      ]
     },
     "execution_count": 107,
     "metadata": {},
     "output_type": "execute_result"
    }
   ],
   "source": [
    "df.sum(numeric_only=True)"
   ]
  },
  {
   "cell_type": "code",
   "execution_count": 21,
   "metadata": {
    "azdata_cell_guid": "8e4f3757-474f-4e20-b861-db973437b541"
   },
   "outputs": [
    {
     "data": {
      "text/plain": [
       "ID             2814.945790\n",
       "Year           2012.628726\n",
       "Netflix           0.367176\n",
       "Hulu              0.301975\n",
       "Prime_Video       0.341095\n",
       "Disney_Plus       0.065387\n",
       "Type              1.000000\n",
       "dtype: float64"
      ]
     },
     "execution_count": 21,
     "metadata": {},
     "output_type": "execute_result"
    }
   ],
   "source": [
    "df.mean()"
   ]
  },
  {
   "cell_type": "markdown",
   "metadata": {
    "azdata_cell_guid": "167cbd0d-ad9f-4f27-8066-e45dfdfaf421"
   },
   "source": [
    "Join your watchlist data with the shows data to determine which streaming services your watchlist shows are on and make a new table in your database using the joined data. Print out the data in your joined table to see what shows on your watchlist on in the original dataset. With the joined data, determine the percentage of your watchlist shows that are on each streaming service and how many of your watchlist shows are on each streaming service."
   ]
  },
  {
   "cell_type": "code",
   "execution_count": 79,
   "metadata": {
    "scrolled": false
   },
   "outputs": [
    {
     "name": "stdout",
     "output_type": "stream",
     "text": [
      "('Dexter', '8.6/10', '92/100', 0, 0, 1, 0, 1)\n",
      "('Fixer Upper', '8.2/10', '64/100', 0, 1, 0, 0, 1)\n",
      "('The Masked Singer', '6.0/10', '59/100', 0, 1, 0, 0, 1)\n",
      "('Making the Cut', '6.6/10', '64/100', 0, 0, 1, 0, 1)\n",
      "('The Mandalorian', '8.8/10', '94/100', 0, 0, 0, 1, 1)\n",
      "('Disney Gallery / Star Wars: The Mandalorian', '8.4/10', '71/100', 0, 0, 0, 1, 1)\n",
      "('Seinfeld', '8.8/10', '93/100', 0, 1, 0, 0, 1)\n",
      "('Miraculous: Tales of Ladybug & Cat Noir', '7.7/10', '73/100', 1, 0, 0, 0, 1)\n",
      "('Buffy the Vampire Slayer', '8.2/10', '86/100', 0, 1, 1, 0, 1)\n"
     ]
    }
   ],
   "source": [
    "# Shows that have a match on both tables\n",
    "with con:\n",
    "    data = con.execute(\"SELECT show.Title,IMDB,Rotten_Tomatoes,Netflix,Hulu,Prime_Video,Disney_Plus,Type FROM my_watchlist JOIN show ON show.Title LIKE '%'||my_watchlist.Title||'%'\")\n",
    "    for row in data:\n",
    "        print(row)"
   ]
  },
  {
   "cell_type": "code",
   "execution_count": 121,
   "metadata": {},
   "outputs": [
    {
     "name": "stdout",
     "output_type": "stream",
     "text": [
      "('Game of Thrones',)\n",
      "('Sopranos',)\n"
     ]
    }
   ],
   "source": [
    "# Shows that are not on the Kaggle dataset\n",
    "with con:\n",
    "    data = con.execute(\"SELECT my_watchlist.Title FROM my_watchlist LEFT JOIN show ON show.Title LIKE '%'||my_watchlist.Title||'%' WHERE show.Title IS NULL\")\n",
    "    for row in data:\n",
    "        print(row)"
   ]
  },
  {
   "cell_type": "code",
   "execution_count": 108,
   "metadata": {},
   "outputs": [],
   "source": [
    "# Creating new table - by joining the two tables where there is a match in Title\n",
    "data = con.execute(\"CREATE TABLE joined_table AS SELECT show.Title,IMDB,Rotten_Tomatoes,Netflix,Hulu,Prime_Video,Disney_Plus,Type FROM my_watchlist JOIN show ON show.Title LIKE '%' || my_watchlist.Title || '%' \")\n"
   ]
  },
  {
   "cell_type": "code",
   "execution_count": 111,
   "metadata": {
    "scrolled": false
   },
   "outputs": [
    {
     "name": "stdout",
     "output_type": "stream",
     "text": [
      "('Dexter', '8.6/10', '92/100', 0, 0, 1, 0, 1)\n",
      "('Fixer Upper', '8.2/10', '64/100', 0, 1, 0, 0, 1)\n",
      "('The Masked Singer', '6.0/10', '59/100', 0, 1, 0, 0, 1)\n",
      "('Making the Cut', '6.6/10', '64/100', 0, 0, 1, 0, 1)\n",
      "('The Mandalorian', '8.8/10', '94/100', 0, 0, 0, 1, 1)\n",
      "('Disney Gallery / Star Wars: The Mandalorian', '8.4/10', '71/100', 0, 0, 0, 1, 1)\n",
      "('Seinfeld', '8.8/10', '93/100', 0, 1, 0, 0, 1)\n",
      "('Miraculous: Tales of Ladybug & Cat Noir', '7.7/10', '73/100', 1, 0, 0, 0, 1)\n",
      "('Buffy the Vampire Slayer', '8.2/10', '86/100', 0, 1, 1, 0, 1)\n"
     ]
    }
   ],
   "source": [
    "with con:\n",
    "    data = con.execute(\"SELECT * FROM joined_table\")\n",
    "    for row in data:\n",
    "        print(row)"
   ]
  },
  {
   "cell_type": "code",
   "execution_count": 109,
   "metadata": {},
   "outputs": [
    {
     "name": "stdout",
     "output_type": "stream",
     "text": [
      "(0.1111111111111111, 0.4444444444444444, 0.3333333333333333, 0.2222222222222222, 9)\n"
     ]
    }
   ],
   "source": [
    "# Finding percentage of my watchlist shows that are on each streaming service \n",
    "\n",
    "with con:\n",
    "    data = con.execute(\"SELECT AVG(Netflix),AVG(Hulu),AVG(Prime_Video),AVG(Disney_Plus),SUM(Type) FROM joined_table\")\n",
    "    for row in data:\n",
    "        print(row)"
   ]
  },
  {
   "cell_type": "code",
   "execution_count": 110,
   "metadata": {},
   "outputs": [
    {
     "name": "stdout",
     "output_type": "stream",
     "text": [
      "(1, 4, 3, 2)\n"
     ]
    }
   ],
   "source": [
    "# Counting how many of my watchlist shows are on each streaming service\n",
    "\n",
    "with con:\n",
    "    data = con.execute(\"SELECT SUM(Netflix),SUM(Hulu),SUM(Prime_Video),SUM(Disney_Plus) FROM joined_table\")\n",
    "    for row in data:\n",
    "        print(row)"
   ]
  },
  {
   "cell_type": "markdown",
   "metadata": {
    "azdata_cell_guid": "909689e4-1aae-41e3-b1f8-158ebe5ec3ca"
   },
   "source": [
    "## Results\n",
    "\n",
    "\n",
    "**1. Was every show on your watchlist in the Kaggle dataset? Do you have any ideas as to why a show might not have been present?**\n",
    "\n",
    "Game of Thrones and The Sopranos were not in the dataset. At first I thought it was because one was too recent and the other was too old but there were other shows in the Kaggle dataset that also came out around the same time. I'm not too sure why it wasn't on the list.\n",
    "\n",
    "**2. Did you include a show or shows in your watchlist that is exclusive to one of the platforms? How might that have impacted your analysis?**\n",
    "\n",
    "Yes, I knew Mandalorian would be exclusive to Disney. This would impact by creating more titles on only one platform.\n",
    "\n",
    "**3. Which streaming service(s) offered the most shows on your watchlist? Which streaming service(s) offered the least?**\n",
    "\n",
    "Hulu offered the most shows (4) on my watchlist and Netflix offered the least (1).\n",
    "\n",
    "**4. Based on the shows you want to watch and the results of your analysis, is there a streaming service you think would be a good fit for you?**\n",
    "\n",
    "I think Prime Video would be a better fit for me - although Hulu offers more shows from my list, it's not a huge difference from Prime and I don't like how Hulu shows ads even with a paid subscription. Also, I don't know when this dataset was last updated. I currently have Netflix and I know it offers 'Seinfeld' but the dataset shows that it's only available on Hulu (which it's not)."
   ]
  }
 ],
 "metadata": {
  "kernelspec": {
   "display_name": "Python 3",
   "language": "python",
   "name": "python3"
  },
  "language_info": {
   "codemirror_mode": {
    "name": "ipython",
    "version": 3
   },
   "file_extension": ".py",
   "mimetype": "text/x-python",
   "name": "python",
   "nbconvert_exporter": "python",
   "pygments_lexer": "ipython3",
   "version": "3.8.8"
  }
 },
 "nbformat": 4,
 "nbformat_minor": 2
}
